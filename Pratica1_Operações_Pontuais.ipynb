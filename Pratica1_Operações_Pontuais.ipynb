{
  "nbformat": 4,
  "nbformat_minor": 0,
  "metadata": {
    "colab": {
      "provenance": [],
      "authorship_tag": "ABX9TyOo6KEa9GplB6Z/M1BOUMH+",
      "include_colab_link": true
    },
    "kernelspec": {
      "name": "python3",
      "display_name": "Python 3"
    },
    "language_info": {
      "name": "python"
    }
  },
  "cells": [
    {
      "cell_type": "markdown",
      "metadata": {
        "id": "view-in-github",
        "colab_type": "text"
      },
      "source": [
        "<a href=\"https://colab.research.google.com/github/Pamgerber/Processamento_Imagens-M2/blob/main/Pratica1_Opera%C3%A7%C3%B5es_Pontuais.ipynb\" target=\"_parent\"><img src=\"https://colab.research.google.com/assets/colab-badge.svg\" alt=\"Open In Colab\"/></a>"
      ]
    },
    {
      "cell_type": "markdown",
      "source": [
        "Universidade do Vale do Itajaí\n",
        "\n",
        "Escola Politécnica\n",
        "\n",
        "Processamento Digital de Sinais: Imagens\n",
        "\n",
        "Professor Felipe Viel\n",
        "\n",
        "M2- Pamela Bandeira Gerber e Ismar Pedrini\n",
        "\n",
        "**Prática com Operações Pontuais e OpenCV**\n",
        "\n",
        "Tutoriais da OpenCV\n",
        "\n",
        "\n",
        "*   https://docs.opencv.org/master/d9/df8/tutorial_root.html\n",
        "*   https://www.geeksforgeeks.org/opencv-python-tutorial/\n",
        "\n",
        "**Conversão de imagem RGB em imagem Grayscale**"
      ],
      "metadata": {
        "id": "XkHCuJEUfraQ"
      }
    },
    {
      "cell_type": "code",
      "execution_count": null,
      "metadata": {
        "id": "etnCiXhTdmym"
      },
      "outputs": [],
      "source": [
        "import cv2\n",
        "import numpy as np\n",
        "import matplotlib.pyplot as plt\n",
        "from google.colab.patches import cv2_imshow"
      ]
    },
    {
      "cell_type": "code",
      "source": [
        "from google.colab import drive\n",
        "drive.mount('/content/drive')"
      ],
      "metadata": {
        "colab": {
          "base_uri": "https://localhost:8080/"
        },
        "id": "tV1EzuasgX1X",
        "outputId": "18bc538c-2da3-4ae1-d485-ab842b56c962"
      },
      "execution_count": null,
      "outputs": [
        {
          "output_type": "stream",
          "name": "stdout",
          "text": [
            "Mounted at /content/drive\n"
          ]
        }
      ]
    },
    {
      "cell_type": "code",
      "source": [
        "# Abrindo a imagem\n",
        "img = cv2.imread('/content/drive/MyDrive/Operacao_Pontual/circulos.png', 1)"
      ],
      "metadata": {
        "id": "CDnqOhEEgIPX"
      },
      "execution_count": null,
      "outputs": []
    },
    {
      "cell_type": "code",
      "source": [
        "# Mostrando a imagem colorida\n",
        "cv2_imshow(img)\n",
        "cv2.waitKey(0)\n",
        "cv2.destroyAllWindows()"
      ],
      "metadata": {
        "colab": {
          "base_uri": "https://localhost:8080/",
          "height": 442
        },
        "id": "9nl8dzvpgd__",
        "outputId": "359eeea6-e3e8-4b43-98fe-c5f564fb2052"
      },
      "execution_count": null,
      "outputs": [
        {
          "output_type": "display_data",
          "data": {
            "text/plain": [
              "<PIL.Image.Image image mode=RGB size=425x425>"
            ],
            "image/png": "[encoded data removed]"
          },
          "metadata": {}
        }
      ]
    },
    {
      "cell_type": "code",
      "source": [
        "# Aplicando conversão básica\n",
        "# Numpy\n",
        "img_grayscale_basic_np = (img[:, :, 0] + img[:, :, 1] + img[:, :, 2]) / 3\n",
        "\n",
        "# Cv2\n",
        "B, G, R = cv2.split(img)\n",
        "img_grayscale_basic_cv2 = cv2.cvtColor(img, cv2.COLOR_BGR2GRAY)\n",
        "\n",
        "# Converte o resultado para o tipo uint8\n",
        "img_grayscale_basic_np = np.array(img_grayscale_basic_np, dtype=np.uint8)\n",
        "\n",
        "# Plotagem\n",
        "cv2_imshow(img_grayscale_basic_cv2)\n",
        "cv2.waitKey(0)\n",
        "cv2.destroyAllWindows()"
      ],
      "metadata": {
        "colab": {
          "base_uri": "https://localhost:8080/",
          "height": 442
        },
        "id": "F1wl_NSUgju-",
        "outputId": "21542f69-517e-4fef-fb61-7d627df3156c"
      },
      "execution_count": null,
      "outputs": [
        {
          "output_type": "display_data",
          "data": {
            "text/plain": [
              "<PIL.Image.Image image mode=L size=425x425>"
            ],
            "image/png": "[encoded data removed]"
          },
          "metadata": {}
        }
      ]
    },
    {
      "cell_type": "code",
      "source": [
        "# Aplicando conversão ponderada\n",
        "img_grayscale_pondered_np = 0.299 * img[:, :, 0] + 0.587 * img[:, :, 1] + 0.114 * img[:, :, 2]\n",
        "\n",
        "# Cv2\n",
        "B, G, R = cv2.split(img)\n",
        "img_grayscale_pondered_cv2 = 0.299 * R + 0.587 * G + 0.114 * B\n",
        "\n",
        "# Converte o resultado para o tipo uint8\n",
        "img_grayscale_pondered_np = np.array(img_grayscale_pondered_np, dtype=np.uint8)\n",
        "\n",
        "# Plotando\n",
        "cv2_imshow(img_grayscale_pondered_np)\n",
        "cv2.waitKey(0)\n",
        "cv2.destroyAllWindows()"
      ],
      "metadata": {
        "colab": {
          "base_uri": "https://localhost:8080/",
          "height": 442
        },
        "id": "qzd8uYmigmld",
        "outputId": "77552b7f-c797-4b56-f44e-3b3dad906641"
      },
      "execution_count": null,
      "outputs": [
        {
          "output_type": "display_data",
          "data": {
            "text/plain": [
              "<PIL.Image.Image image mode=L size=425x425>"
            ],
            "image/png": "[encoded data removed]"
          },
          "metadata": {}
        }
      ]
    },
    {
      "cell_type": "markdown",
      "source": [
        "**Histograma de uma imagem**\n",
        "\n",
        "Fazer o histograma de uma imagem"
      ],
      "metadata": {
        "id": "nYZoPSXngrj1"
      }
    },
    {
      "cell_type": "code",
      "source": [
        "# Calcula o histograma\n",
        "histogram = cv2.calcHist([img], [0], None, [256], [0, 256])"
      ],
      "metadata": {
        "id": "tJWbnEX6gpVz"
      },
      "execution_count": null,
      "outputs": []
    },
    {
      "cell_type": "code",
      "source": [
        "x = np.linspace(0, 255, 256)\n",
        "\n",
        "# Plotando\n",
        "plt.bar(x, histogram[:, 0], width=1.0)\n",
        "plt.xlabel('Intensidade')\n",
        "plt.ylabel('Frequência')\n",
        "plt.show()"
      ],
      "metadata": {
        "colab": {
          "base_uri": "https://localhost:8080/",
          "height": 449
        },
        "id": "y9o3UZ3kgvvu",
        "outputId": "d09fb956-d759-40b1-a617-de27eaf5f7df"
      },
      "execution_count": null,
      "outputs": [
        {
          "output_type": "display_data",
          "data": {
            "text/plain": [
              "<Figure size 640x480 with 1 Axes>"
            ],
            "image/png": "[encoded data removed]"
          },
          "metadata": {}
        }
      ]
    },
    {
      "cell_type": "markdown",
      "source": [
        "Agora faça o histograma normalizado"
      ],
      "metadata": {
        "id": "VDUnqy6Dg3Eh"
      }
    },
    {
      "cell_type": "code",
      "source": [
        "histogram_normalized = histogram / histogram.sum()\n",
        "\n",
        "# Array 'x' usando np.linspace representando as intensidades no eixo X\n",
        "x = np.linspace(0, 255, 256)  # Supondo que seja uma imagem em tons de cinza de 8 bits\n",
        "\n",
        "# Gráfico de linha\n",
        "plt.plot(x, histogram_normalized)\n",
        "plt.xlabel('Intensidade')\n",
        "plt.ylabel('Frequência Normalizada')\n",
        "plt.show()"
      ],
      "metadata": {
        "colab": {
          "base_uri": "https://localhost:8080/",
          "height": 449
        },
        "id": "ZFBhKaXMg0uW",
        "outputId": "5c5a2d86-82a4-4c4a-cffd-1dc3bdd384ca"
      },
      "execution_count": null,
      "outputs": [
        {
          "output_type": "display_data",
          "data": {
            "text/plain": [
              "<Figure size 640x480 with 1 Axes>"
            ],
            "image/png": "[encoded data removed]"
          },
          "metadata": {}
        }
      ]
    },
    {
      "cell_type": "markdown",
      "source": [
        "**Transformações**\n",
        "\n",
        "Aplicar o conceito de transformação negativa em uma imagem. Cuide da questão de haver 3 bandas."
      ],
      "metadata": {
        "id": "kD9GAjV5g_O6"
      }
    },
    {
      "cell_type": "code",
      "source": [
        "#negativo\n",
        "\n",
        "# Mude a variavel colorida para 1 caso queira colorida e 0 em escala de cinza\n",
        "colorida = 1\n",
        "\n",
        "img_in = cv2.imread('/content/drive/MyDrive/Operacao_Pontual/circulos.png', 1)\n",
        "\n",
        "# Calcula o negativo\n",
        "img_negative_np = 255 - img_in\n",
        "\n",
        "# Fiz um cast\n",
        "img_out = img_negative_np.astype('uint8')\n",
        "\n",
        "print(\"Imagem Original\")\n",
        "cv2_imshow(img_in)\n",
        "cv2.waitKey(0)\n",
        "print(\"Imagem Nagativo\")\n",
        "cv2_imshow(img_out)\n",
        "cv2.waitKey(0)\n",
        "cv2.destroyAllWindows()"
      ],
      "metadata": {
        "colab": {
          "base_uri": "https://localhost:8080/",
          "height": 902
        },
        "id": "V8zkgUUJg-SK",
        "outputId": "1097d124-7840-46a1-d7c9-a42bb2753556"
      },
      "execution_count": null,
      "outputs": [
        {
          "output_type": "stream",
          "name": "stdout",
          "text": [
            "Imagem Original\n"
          ]
        },
        {
          "output_type": "display_data",
          "data": {
            "text/plain": [
              "<PIL.Image.Image image mode=RGB size=425x425>"
            ],
            "image/png": "[encoded data removed]"
          },
          "metadata": {}
        },
        {
          "output_type": "stream",
          "name": "stdout",
          "text": [
            "Imagem Nagativo\n"
          ]
        },
        {
          "output_type": "display_data",
          "data": {
            "text/plain": [
              "<PIL.Image.Image image mode=RGB size=425x425>"
            ],
            "image/png": "[encoded data removed]"
          },
          "metadata": {}
        }
      ]
    },
    {
      "cell_type": "markdown",
      "source": [
        "Aplicar o conceito de transformação logaritimica em uma imagem. Cuide da questão de haver 3 bandas."
      ],
      "metadata": {
        "id": "nrfUCkxphLCb"
      }
    },
    {
      "cell_type": "code",
      "source": [
        "#logaritimica\n",
        "\n",
        "img_in = cv2.imread('/content/drive/MyDrive/Operacao_Pontual/circulos.png')\n",
        "\n",
        "c = 1\n",
        "\n",
        "# Transformação logarítmica\n",
        "img_out = c * np.log1p(img_in)\n",
        "\n",
        "# Cast\n",
        "img_out = (img_out / img_out.max() * 255).astype(np.uint8)\n",
        "\n",
        "print(\"Valor máximo da imagem resultante:\",img_out.max())\n",
        "print(\"Imagem Original\")\n",
        "cv2_imshow(img_in)\n",
        "cv2.waitKey(0)\n",
        "print(\"Imagem Logarítmica\")\n",
        "cv2_imshow(img_out)\n",
        "cv2.waitKey(0)\n",
        "cv2.destroyAllWindows()"
      ],
      "metadata": {
        "colab": {
          "base_uri": "https://localhost:8080/",
          "height": 919
        },
        "id": "jpmtDYVShMZ6",
        "outputId": "a998760b-cc97-4b78-e7dd-637dea0c3f25"
      },
      "execution_count": null,
      "outputs": [
        {
          "output_type": "stream",
          "name": "stdout",
          "text": [
            "Valor máximo da imagem resultante: 255\n",
            "Imagem Original\n"
          ]
        },
        {
          "output_type": "display_data",
          "data": {
            "text/plain": [
              "<PIL.Image.Image image mode=RGB size=425x425>"
            ],
            "image/png": "[encoded data removed]"
          },
          "metadata": {}
        },
        {
          "output_type": "stream",
          "name": "stdout",
          "text": [
            "Imagem Logarítmica\n"
          ]
        },
        {
          "output_type": "display_data",
          "data": {
            "text/plain": [
              "<PIL.Image.Image image mode=RGB size=425x425>"
            ],
            "image/png": "[encoded data removed]"
          },
          "metadata": {}
        }
      ]
    },
    {
      "cell_type": "markdown",
      "source": [
        "Aplicar o conceito de transformação de gamma em uma imagem. Cuide da questão de haver 3 bandas."
      ],
      "metadata": {
        "id": "08BtSAQWhRj2"
      }
    },
    {
      "cell_type": "code",
      "source": [
        "img_in = cv2.imread('/content/drive/MyDrive/Operacao_Pontual/circulos.png',1)\n",
        "\n",
        "c = 20\n",
        "gamma = 0.8\n",
        "\n",
        "# Correção do gamma\n",
        "img_out = c * (img_in ** gamma)\n",
        "\n",
        "# Cast\n",
        "img_out = np.clip(img_out, 0, 255).astype('uint8')\n",
        "\n",
        "\n",
        "print(\"Valor máximo da imagem resultante:\", img_out.max())\n",
        "print(\"Original\")\n",
        "cv2_imshow(img_in)\n",
        "cv2.waitKey(0)\n",
        "print(\"Gama\")\n",
        "cv2_imshow(img_out)\n",
        "cv2.waitKey(0)\n",
        "cv2.destroyAllWindows()"
      ],
      "metadata": {
        "colab": {
          "base_uri": "https://localhost:8080/",
          "height": 919
        },
        "id": "vaKoPWPbhSNV",
        "outputId": "2adf0ff6-c442-4ec3-a838-55136f920f21"
      },
      "execution_count": null,
      "outputs": [
        {
          "output_type": "stream",
          "name": "stdout",
          "text": [
            "Valor máximo da imagem resultante: 255\n",
            "Original\n"
          ]
        },
        {
          "output_type": "display_data",
          "data": {
            "text/plain": [
              "<PIL.Image.Image image mode=RGB size=425x425>"
            ],
            "image/png": "[encoded data removed]"
          },
          "metadata": {}
        },
        {
          "output_type": "stream",
          "name": "stdout",
          "text": [
            "Gama\n"
          ]
        },
        {
          "output_type": "display_data",
          "data": {
            "text/plain": [
              "<PIL.Image.Image image mode=RGB size=425x425>"
            ],
            "image/png": "[encoded data removed]"
          },
          "metadata": {}
        }
      ]
    },
    {
      "cell_type": "markdown",
      "source": [
        "Aplicar o conceito de transformação de alargamento de contraste em uma imagem. Cuide da questão de haver 3 bandas."
      ],
      "metadata": {
        "id": "har36zeThX1C"
      }
    },
    {
      "cell_type": "code",
      "source": [
        "#alargamento de contraste\n",
        "img_in = cv2.imread('/content/drive/MyDrive/Operacao_Pontual/circulos.png',1)\n",
        "\n",
        "# Número de iterações\n",
        "num_iterations = 3\n",
        "\n",
        "# Loop para aplicar o alargamento de contraste\n",
        "for i in range(num_iterations):\n",
        "    # Calcula o valor mínimo e máximo das intensidades\n",
        "    min_intensity = np.min(img_in)\n",
        "    max_intensity = np.max(img_in)\n",
        "\n",
        "    # Novos valores mínimo e máximo\n",
        "    new_min_intensity = 0\n",
        "    new_max_intensity = 255\n",
        "\n",
        "    # Transformação linear\n",
        "    img_in = ((img_in - min_intensity) / (max_intensity - min_intensity)) * (new_max_intensity - new_min_intensity) + new_min_intensity\n",
        "\n",
        "# Cast\n",
        "img_out = img_in.astype('uint8')\n",
        "\n",
        "print(\"Original\")\n",
        "cv2_imshow(img_in)\n",
        "cv2.waitKey(0)\n",
        "print(\"Alargamento de Contraste\")\n",
        "cv2_imshow(img_out)\n",
        "cv2.waitKey(0)"
      ],
      "metadata": {
        "colab": {
          "base_uri": "https://localhost:8080/",
          "height": 919
        },
        "id": "8Zoob2XXhYRB",
        "outputId": "5b0d1825-bc82-474d-dbee-f1264dfa6e14"
      },
      "execution_count": null,
      "outputs": [
        {
          "output_type": "stream",
          "name": "stdout",
          "text": [
            "Original\n"
          ]
        },
        {
          "output_type": "display_data",
          "data": {
            "text/plain": [
              "<PIL.Image.Image image mode=RGB size=425x425>"
            ],
            "image/png": "[encoded data removed]"
          },
          "metadata": {}
        },
        {
          "output_type": "stream",
          "name": "stdout",
          "text": [
            "Alargamento de Contraste\n"
          ]
        },
        {
          "output_type": "display_data",
          "data": {
            "text/plain": [
              "<PIL.Image.Image image mode=RGB size=425x425>"
            ],
            "image/png": "[encoded data removed]"
          },
          "metadata": {}
        },
        {
          "output_type": "execute_result",
          "data": {
            "text/plain": [
              "-1"
            ]
          },
          "metadata": {},
          "execution_count": 16
        }
      ]
    },
    {
      "cell_type": "markdown",
      "source": [
        "Aplicar o conceito de transformação de contraste e brilho em uma imagem. Cuide da questão de haver 3 bandas."
      ],
      "metadata": {
        "id": "Yrp_vCzshdwx"
      }
    },
    {
      "cell_type": "code",
      "source": [
        "#contraste e brilho\n",
        "\n",
        "img_in = cv2.imread('/content/drive/MyDrive/Operacao_Pontual/circulos.png',1)\n",
        "\n",
        "a = 9  # Contraste\n",
        "b = 5   # Brilho\n",
        "\n",
        "img_out = a*img_in + b\n",
        "\n",
        "# Cast\n",
        "img_out = np.array(img_out, dtype = np.uint8)\n",
        "\n",
        "print(\"Original\")\n",
        "cv2_imshow((img_in))\n",
        "cv2.waitKey(0)\n",
        "print(\"Contraste e Brilho\")\n",
        "cv2_imshow((img_out))\n",
        "cv2.waitKey(0)\n",
        "\n",
        "cv2.destroyAllWindows()"
      ],
      "metadata": {
        "colab": {
          "base_uri": "https://localhost:8080/",
          "height": 902
        },
        "id": "9wdhp0Ykhefy",
        "outputId": "c656a1a9-9992-45f8-ef9a-d2b5f73b396f"
      },
      "execution_count": null,
      "outputs": [
        {
          "output_type": "stream",
          "name": "stdout",
          "text": [
            "Original\n"
          ]
        },
        {
          "output_type": "display_data",
          "data": {
            "text/plain": [
              "<PIL.Image.Image image mode=RGB size=425x425>"
            ],
            "image/png": "[encoded data removed]"
          },
          "metadata": {}
        },
        {
          "output_type": "stream",
          "name": "stdout",
          "text": [
            "Contraste e Brilho\n"
          ]
        },
        {
          "output_type": "display_data",
          "data": {
            "text/plain": [
              "<PIL.Image.Image image mode=RGB size=425x425>"
            ],
            "image/png": "[encoded data removed]"
          },
          "metadata": {}
        }
      ]
    },
    {
      "cell_type": "markdown",
      "source": [
        "Aplicar o conceito de transformação de limiar em uma imagem. Cuide da questão de haver 3 bandas."
      ],
      "metadata": {
        "id": "BKbEImudhjF1"
      }
    },
    {
      "cell_type": "code",
      "source": [
        "#limiar\n",
        "img_in = cv2.imread('/content/drive/MyDrive/Operacao_Pontual/circulos.png')\n",
        "\n",
        "# Valor de limiar\n",
        "limiar = 127\n",
        "\n",
        "# Transformação de limiarização separadamente\n",
        "img_out = np.zeros_like(img_in)\n",
        "\n",
        "for i in range(3):  # Loop através das 3 bandas\n",
        "    img_out[:, :, i] = cv2.threshold(img_in[:, :, i], limiar, 255, cv2.THRESH_BINARY)[1]\n",
        "\n",
        "# Cast\n",
        "img_out = np.array(img_out, dtype = np.uint8)\n",
        "\n",
        "print(\"Original\")\n",
        "cv2_imshow(img_in)\n",
        "cv2.waitKey(0)\n",
        "print(\"Limiarizacao\")\n",
        "cv2_imshow(img_out)\n",
        "cv2.waitKey(0)\n",
        "\n",
        "cv2.destroyAllWindows()"
      ],
      "metadata": {
        "colab": {
          "base_uri": "https://localhost:8080/",
          "height": 902
        },
        "id": "cD_h3u5qhj5x",
        "outputId": "abd12c4e-4766-4e01-b918-c20223e4d612"
      },
      "execution_count": null,
      "outputs": [
        {
          "output_type": "stream",
          "name": "stdout",
          "text": [
            "Original\n"
          ]
        },
        {
          "output_type": "display_data",
          "data": {
            "text/plain": [
              "<PIL.Image.Image image mode=RGB size=425x425>"
            ],
            "image/png": "[encoded data removed]"
          },
          "metadata": {}
        },
        {
          "output_type": "stream",
          "name": "stdout",
          "text": [
            "Limiarizacao\n"
          ]
        },
        {
          "output_type": "display_data",
          "data": {
            "text/plain": [
              "<PIL.Image.Image image mode=RGB size=425x425>"
            ],
            "image/png": "[encoded data removed]"
          },
          "metadata": {}
        }
      ]
    },
    {
      "cell_type": "markdown",
      "source": [
        "Aplicar o conceito de transformação de limiar com fatiamento de plano em uma imagem. Cuide da questão de haver 3 bandas."
      ],
      "metadata": {
        "id": "Js9foNoWhn75"
      }
    },
    {
      "cell_type": "code",
      "source": [
        "#limiar (com fatiamento por plano)\n",
        "img_in = cv2.imread('/content/drive/MyDrive/Operacao_Pontual/circulos.png')\n",
        "\n",
        "a = 100  # Limite inferior\n",
        "b = 200  # Limite superior\n",
        "\n",
        "num_iterations = 3  # Iterações\n",
        "\n",
        "# Cópia da imagem original\n",
        "img_out = img_in.copy()\n",
        "\n",
        "# Loop\n",
        "for i in range(num_iterations):\n",
        "    img_out[img_out < a] = 0\n",
        "    img_out[(img_out >= a) & (img_out < b)] = 128\n",
        "    img_out[img_out >= b] = 255\n",
        "\n",
        "# Cast\n",
        "img_out = np.array(img_out, dtype = np.uint8)\n",
        "\n",
        "print(\"Original\")\n",
        "cv2_imshow(img_in)\n",
        "cv2.waitKey(0)\n",
        "print(\"Limiarizacao com fatiamento de plano\")\n",
        "cv2_imshow(img_out)\n",
        "cv2.waitKey(0)\n",
        "cv2.destroyAllWindows()"
      ],
      "metadata": {
        "colab": {
          "base_uri": "https://localhost:8080/",
          "height": 902
        },
        "id": "EQD31qn4ho9N",
        "outputId": "56619354-f627-45c6-f102-3801e889affd"
      },
      "execution_count": null,
      "outputs": [
        {
          "output_type": "stream",
          "name": "stdout",
          "text": [
            "Original\n"
          ]
        },
        {
          "output_type": "display_data",
          "data": {
            "text/plain": [
              "<PIL.Image.Image image mode=RGB size=425x425>"
            ],
            "image/png": "[encoded data removed]"
          },
          "metadata": {}
        },
        {
          "output_type": "stream",
          "name": "stdout",
          "text": [
            "Limiarizacao com fatiamento de plano\n"
          ]
        },
        {
          "output_type": "display_data",
          "data": {
            "text/plain": [
              "<PIL.Image.Image image mode=RGB size=425x425>"
            ],
            "image/png": "[encoded data removed]"
          },
          "metadata": {}
        }
      ]
    }
  ]
}